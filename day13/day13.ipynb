{
 "cells": [
  {
   "cell_type": "code",
   "execution_count": 1,
   "metadata": {},
   "outputs": [
    {
     "name": "stdout",
     "output_type": "stream",
     "text": [
      "1 1 1       1 1     1     1   1 1 1     1     1   1         1     1   1      \n",
      "1     1   1     1   1     1   1     1   1   1     1         1   1     1      \n",
      "1     1   1         1 1 1 1   1     1   1 1       1         1 1       1      \n",
      "1 1 1     1   1 1   1     1   1 1 1     1   1     1         1   1     1      \n",
      "1         1     1   1     1   1   1     1   1     1         1   1     1      \n",
      "1           1 1 1   1     1   1     1   1     1   1 1 1 1   1     1   1 1 1 1\n"
     ]
    }
   ],
   "source": [
    "import pandas as pd\n",
    "import numpy as np\n",
    "\n",
    "# Load the data\n",
    "df = pd.read_csv(\"dots.csv\", header=None)\n",
    "df.columns = [\"x\", \"y\"]\n",
    "\n",
    "folds = [('x', 655), ('y', 447), ('x', 327), ('y', 223), ('x', 163), ('y', 111),\n",
    "         ('x', 81), ('y', 55), ('x', 40), ('y', 27), ('y', 13), ('y', 6)]\n",
    "\n",
    "# Do the folds\n",
    "for axis, pos in folds:\n",
    "    df.loc[df[axis] > pos, axis] = pos - (df.loc[df[axis] > pos, axis] - pos)\n",
    "    df = df.drop_duplicates()\n",
    "\n",
    "# Visualize the result\n",
    "shape = df.max()\n",
    "result = np.zeros((shape[\"x\"]+1, shape[\"y\"]+1))\n",
    "result[df[\"x\"], df[\"y\"]] = 1\n",
    "for row in result.T:\n",
    "    print(' '.join(['1' if x == 1 else ' ' for x in row]))\n"
   ]
  }
 ],
 "metadata": {
  "interpreter": {
   "hash": "767d51c1340bd893661ea55ea3124f6de3c7a262a8b4abca0554b478b1e2ff90"
  },
  "kernelspec": {
   "display_name": "Python 3.8.10 64-bit",
   "language": "python",
   "name": "python3"
  },
  "language_info": {
   "codemirror_mode": {
    "name": "ipython",
    "version": 3
   },
   "file_extension": ".py",
   "mimetype": "text/x-python",
   "name": "python",
   "nbconvert_exporter": "python",
   "pygments_lexer": "ipython3",
   "version": "3.8.5"
  },
  "orig_nbformat": 4
 },
 "nbformat": 4,
 "nbformat_minor": 2
}
