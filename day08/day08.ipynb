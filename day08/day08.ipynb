{
 "cells": [
  {
   "cell_type": "markdown",
   "metadata": {},
   "source": [
    "### Load data"
   ]
  },
  {
   "cell_type": "code",
   "execution_count": 1,
   "metadata": {},
   "outputs": [],
   "source": [
    "patterns = []\n",
    "outputs = []\n",
    "with open(\"input.txt\") as f:\n",
    "    for line in f:\n",
    "        x, y = line.split(\"|\")\n",
    "        patterns.append([set(a) for a in x.split()])\n",
    "        outputs.append([set(a) for a in y.split()])"
   ]
  },
  {
   "cell_type": "markdown",
   "metadata": {},
   "source": [
    "### Part 1"
   ]
  },
  {
   "cell_type": "code",
   "execution_count": 7,
   "metadata": {},
   "outputs": [
    {
     "name": "stdout",
     "output_type": "stream",
     "text": [
      "349\n"
     ]
    }
   ],
   "source": [
    "digits = sum(outputs, [])\n",
    "ones = len([digit for digit in digits if len(digit) == 2])\n",
    "fours = len([digit for digit in digits if len(digit) == 4])\n",
    "sevens = len([digit for digit in digits if len(digit) == 3])\n",
    "eights = len([digit for digit in digits if len(digit) == 7])\n",
    "\n",
    "print(ones + fours + sevens + eights)"
   ]
  },
  {
   "cell_type": "markdown",
   "metadata": {},
   "source": [
    "### Part 2"
   ]
  },
  {
   "cell_type": "markdown",
   "metadata": {},
   "source": [
    "The strategy here is to create a \"signature\" for each digit, which is the number of segments it shares with each digit. For example, the digit \"4\" shares 2 segments with 3 other digits, 3 segments with 4 other digits, and 4 segments with 3 digits (including itself). \n",
    "\n",
    "We calculate this signature for each digit with the correct wiring, and then for each entry we calculate the signature of the four output digits using the ten signal patterns. Then we can match those signatures to the correct wiring signatures to identify which numbers they are."
   ]
  },
  {
   "cell_type": "code",
   "execution_count": 32,
   "metadata": {},
   "outputs": [
    {
     "data": {
      "text/plain": [
       "1070957"
      ]
     },
     "execution_count": 32,
     "metadata": {},
     "output_type": "execute_result"
    }
   ],
   "source": [
    "from collections import Counter\n",
    "\n",
    "def get_signatures(pattern, output):\n",
    "    return [Counter([len(s & t) for s in pattern]) for t in output]\n",
    "\n",
    "def decode(pattern, output, signatures):\n",
    "    sigs = get_signatures(pattern, output)\n",
    "    return int(''.join([str(signatures.index(s)) for s in sigs]))\n",
    "\n",
    "correct = [set('abcefg'), set('cf'), set('acdeg'), set('acdfg'), set('bcdf'),\n",
    "           set('abdfg'), set('abdefg'), set('acf'), set('abcdefg'), set('abcdfg')]\n",
    "signatures = get_signatures(correct, correct)\n",
    "\n",
    "sum(decode(pattern, output, signatures) for pattern, output in zip(patterns, outputs))"
   ]
  }
 ],
 "metadata": {
  "interpreter": {
   "hash": "40d3a090f54c6569ab1632332b64b2c03c39dcf918b08424e98f38b5ae0af88f"
  },
  "kernelspec": {
   "display_name": "Python 3.8.5 64-bit ('base': conda)",
   "language": "python",
   "name": "python3"
  },
  "language_info": {
   "codemirror_mode": {
    "name": "ipython",
    "version": 3
   },
   "file_extension": ".py",
   "mimetype": "text/x-python",
   "name": "python",
   "nbconvert_exporter": "python",
   "pygments_lexer": "ipython3",
   "version": "3.8.5"
  },
  "orig_nbformat": 4
 },
 "nbformat": 4,
 "nbformat_minor": 2
}
