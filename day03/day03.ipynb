{
 "cells": [
  {
   "cell_type": "markdown",
   "metadata": {},
   "source": [
    "### Load data"
   ]
  },
  {
   "cell_type": "code",
   "execution_count": 4,
   "metadata": {},
   "outputs": [
    {
     "name": "stdout",
     "output_type": "stream",
     "text": [
      "[[0 1 0 ... 0 1 0]\n",
      " [0 1 1 ... 1 0 0]\n",
      " [1 1 0 ... 1 0 1]\n",
      " ...\n",
      " [0 1 0 ... 1 0 0]\n",
      " [0 1 1 ... 1 0 0]\n",
      " [0 1 0 ... 1 0 1]]\n"
     ]
    }
   ],
   "source": [
    "import numpy as np\n",
    "\n",
    "def parse_line(line):\n",
    "    return [int(x) for x in list(line.strip())]\n",
    "\n",
    "with open('input.txt') as f:\n",
    "    data = np.array([parse_line(line) for line in f])\n",
    "\n",
    "print(data)"
   ]
  },
  {
   "cell_type": "markdown",
   "metadata": {},
   "source": [
    "### Part 1"
   ]
  },
  {
   "cell_type": "code",
   "execution_count": 44,
   "metadata": {},
   "outputs": [
    {
     "data": {
      "text/plain": [
       "3895776"
      ]
     },
     "execution_count": 44,
     "metadata": {},
     "output_type": "execute_result"
    }
   ],
   "source": [
    "def convert_to_base10(bitvector):\n",
    "    return int(''.join(bitvector.astype(str)), base=2)\n",
    "\n",
    "most_common = data.sum(axis=0) >= len(data) / 2\n",
    "most_common = most_common.astype(int)\n",
    "gamma_rate = convert_to_base10(most_common)\n",
    "epsilon_rate = convert_to_base10(np.abs(most_common - 1))\n",
    "\n",
    "gamma_rate * epsilon_rate"
   ]
  },
  {
   "cell_type": "markdown",
   "metadata": {},
   "source": [
    "### Part 2"
   ]
  },
  {
   "cell_type": "code",
   "execution_count": 78,
   "metadata": {},
   "outputs": [
    {
     "data": {
      "text/plain": [
       "7928162"
      ]
     },
     "execution_count": 78,
     "metadata": {},
     "output_type": "execute_result"
    }
   ],
   "source": [
    "def filter_numbers(nums, bit=0, least_common=False):\n",
    "    if len(nums) == 1:\n",
    "        return nums.flatten()\n",
    "    if least_common:\n",
    "        common = np.sum(nums[:,bit]) < len(nums) / 2\n",
    "    else:\n",
    "        common = np.sum(nums[:,bit]) >= len(nums) / 2\n",
    "    return filter_numbers(nums[nums[:,bit] == common], bit+1, least_common)\n",
    "\n",
    "oxygen_gen_rating = convert_to_base10(filter_numbers(data))\n",
    "CO2_scrubber_rating = convert_to_base10(filter_numbers(data, least_common=True))\n",
    "\n",
    "oxygen_gen_rating * CO2_scrubber_rating"
   ]
  }
 ],
 "metadata": {
  "interpreter": {
   "hash": "40d3a090f54c6569ab1632332b64b2c03c39dcf918b08424e98f38b5ae0af88f"
  },
  "kernelspec": {
   "display_name": "Python 3.8.5 64-bit ('base': conda)",
   "language": "python",
   "name": "python3"
  },
  "language_info": {
   "codemirror_mode": {
    "name": "ipython",
    "version": 3
   },
   "file_extension": ".py",
   "mimetype": "text/x-python",
   "name": "python",
   "nbconvert_exporter": "python",
   "pygments_lexer": "ipython3",
   "version": "3.8.5"
  },
  "orig_nbformat": 4
 },
 "nbformat": 4,
 "nbformat_minor": 2
}
