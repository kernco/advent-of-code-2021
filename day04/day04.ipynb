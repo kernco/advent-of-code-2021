{
 "cells": [
  {
   "cell_type": "markdown",
   "metadata": {},
   "source": [
    "### Load data"
   ]
  },
  {
   "cell_type": "code",
   "execution_count": 7,
   "metadata": {},
   "outputs": [],
   "source": [
    "import numpy as np\n",
    "\n",
    "with open(\"input.txt\") as f:\n",
    "    draws = [int(num) for num in f.readline().split(',')]\n",
    "    boardstrings = f.read().strip().split(\"\\n\\n\")\n",
    "\n",
    "boards = []\n",
    "for board in boardstrings:\n",
    "    boards.append([row.split() for row in board.split('\\n')])\n",
    "\n",
    "boards = np.array(boards).astype(int)"
   ]
  },
  {
   "cell_type": "markdown",
   "metadata": {},
   "source": [
    "### Part 1"
   ]
  },
  {
   "cell_type": "code",
   "execution_count": 54,
   "metadata": {},
   "outputs": [
    {
     "data": {
      "text/plain": [
       "55770"
      ]
     },
     "execution_count": 54,
     "metadata": {},
     "output_type": "execute_result"
    }
   ],
   "source": [
    "def find_winners(marked):\n",
    "    return marked.all(axis=1).any(axis=1) | marked.all(axis=2).any(axis=1)\n",
    "\n",
    "def score_board(board, marks):\n",
    "    return np.sum(board - board * marks).astype(int)\n",
    "\n",
    "marked = np.zeros(boards.shape)\n",
    "for draw in draws:\n",
    "    marked[np.where(boards == draw)] = 1\n",
    "    winners = find_winners(marked)\n",
    "    if winners.any():\n",
    "        break\n",
    "else:\n",
    "    print(\"No boards won\")\n",
    "\n",
    "winner = np.where(winners)\n",
    "score_board(boards[winner], marked[winner]) * draw"
   ]
  },
  {
   "cell_type": "markdown",
   "metadata": {},
   "source": [
    "### Part 2"
   ]
  },
  {
   "cell_type": "code",
   "execution_count": 56,
   "metadata": {},
   "outputs": [
    {
     "data": {
      "text/plain": [
       "2980"
      ]
     },
     "execution_count": 56,
     "metadata": {},
     "output_type": "execute_result"
    }
   ],
   "source": [
    "marked = np.zeros(boards.shape)\n",
    "winners = None\n",
    "for draw in draws:\n",
    "    prev_winners = winners\n",
    "    marked[np.where(boards == draw)] = 1\n",
    "    winners = find_winners(marked)\n",
    "    if winners.all():\n",
    "        break\n",
    "else:\n",
    "    print(\"No boards won\")\n",
    "\n",
    "last_winner = np.where(winners ^ prev_winners)\n",
    "score_board(boards[last_winner], marked[last_winner]) * draw"
   ]
  }
 ],
 "metadata": {
  "interpreter": {
   "hash": "40d3a090f54c6569ab1632332b64b2c03c39dcf918b08424e98f38b5ae0af88f"
  },
  "kernelspec": {
   "display_name": "Python 3.8.5 64-bit ('base': conda)",
   "language": "python",
   "name": "python3"
  },
  "language_info": {
   "codemirror_mode": {
    "name": "ipython",
    "version": 3
   },
   "file_extension": ".py",
   "mimetype": "text/x-python",
   "name": "python",
   "nbconvert_exporter": "python",
   "pygments_lexer": "ipython3",
   "version": "3.8.5"
  },
  "orig_nbformat": 4
 },
 "nbformat": 4,
 "nbformat_minor": 2
}
