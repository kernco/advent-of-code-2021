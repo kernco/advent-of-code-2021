{
 "cells": [
  {
   "cell_type": "markdown",
   "metadata": {},
   "source": [
    "### Load data"
   ]
  },
  {
   "cell_type": "code",
   "execution_count": 16,
   "metadata": {},
   "outputs": [],
   "source": [
    "import numpy as np\n",
    "\n",
    "input = np.array([\n",
    "    [1, 3, 2, 6, 2, 5, 3, 3, 1, 5],\n",
    "    [3, 4, 2, 7, 7, 2, 8, 1, 1, 3],\n",
    "    [5, 7, 5, 1, 6, 1, 2, 5, 4, 2],\n",
    "    [6, 5, 4, 3, 8, 6, 8, 3, 2, 2],\n",
    "    [4, 4, 2, 2, 5, 2, 6, 2, 2, 1],\n",
    "    [2, 2, 3, 4, 3, 2, 5, 6, 4, 7],\n",
    "    [1, 7, 7, 3, 1, 7, 4, 8, 8, 7],\n",
    "    [7, 2, 8, 1, 3, 2, 1, 6, 7, 4],\n",
    "    [6, 5, 6, 2, 5, 1, 3, 1, 1, 8],\n",
    "    [4, 8, 2, 4, 5, 4, 1, 5, 2, 2]])"
   ]
  },
  {
   "cell_type": "markdown",
   "metadata": {},
   "source": [
    "### Part 1"
   ]
  },
  {
   "cell_type": "code",
   "execution_count": 17,
   "metadata": {},
   "outputs": [
    {
     "name": "stdout",
     "output_type": "stream",
     "text": [
      "1749\n"
     ]
    }
   ],
   "source": [
    "grid = np.pad(input, 1, mode='constant', constant_values=np.nan)\n",
    "\n",
    "flashes = 0\n",
    "for _ in range(100):\n",
    "    grid += 1\n",
    "    while (grid == 10).any():\n",
    "        for x, y in zip(*np.where(grid == 10)):\n",
    "            grid[x, y] = 11\n",
    "            box = grid[x-1:x+2, y-1:y+2]\n",
    "            box[box < 10] += 1\n",
    "    flashes += np.sum(grid > 9)\n",
    "    grid[grid > 9] = 0\n",
    "\n",
    "print(flashes)"
   ]
  },
  {
   "cell_type": "markdown",
   "metadata": {},
   "source": [
    "### Part 2"
   ]
  },
  {
   "cell_type": "code",
   "execution_count": 22,
   "metadata": {},
   "outputs": [
    {
     "name": "stdout",
     "output_type": "stream",
     "text": [
      "285\n"
     ]
    }
   ],
   "source": [
    "grid = np.pad(input, 1, mode='constant', constant_values=np.nan)\n",
    "\n",
    "flashes = 0\n",
    "rounds = 0\n",
    "while flashes < len(input.flatten()):\n",
    "    grid += 1\n",
    "    rounds += 1\n",
    "    while (grid == 10).any():\n",
    "        for x, y in zip(*np.where(grid == 10)):\n",
    "            grid[x, y] = 11\n",
    "            box = grid[x-1:x+2, y-1:y+2]\n",
    "            box[box < 10] += 1\n",
    "    flashes = np.sum(grid > 9)\n",
    "    grid[grid > 9] = 0\n",
    "\n",
    "print(rounds)"
   ]
  }
 ],
 "metadata": {
  "interpreter": {
   "hash": "40d3a090f54c6569ab1632332b64b2c03c39dcf918b08424e98f38b5ae0af88f"
  },
  "kernelspec": {
   "display_name": "Python 3.8.5 64-bit ('base': conda)",
   "language": "python",
   "name": "python3"
  },
  "language_info": {
   "codemirror_mode": {
    "name": "ipython",
    "version": 3
   },
   "file_extension": ".py",
   "mimetype": "text/x-python",
   "name": "python",
   "nbconvert_exporter": "python",
   "pygments_lexer": "ipython3",
   "version": "3.8.5"
  },
  "orig_nbformat": 4
 },
 "nbformat": 4,
 "nbformat_minor": 2
}
