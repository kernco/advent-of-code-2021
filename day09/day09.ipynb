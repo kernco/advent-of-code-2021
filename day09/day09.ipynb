{
 "cells": [
  {
   "cell_type": "markdown",
   "metadata": {},
   "source": [
    "### Load data"
   ]
  },
  {
   "cell_type": "code",
   "execution_count": 3,
   "metadata": {},
   "outputs": [],
   "source": [
    "import numpy as np\n",
    "\n",
    "with open(\"input.txt\") as f:\n",
    "    hmap = np.array([list(line.strip()) for line in f]).astype(int)"
   ]
  },
  {
   "cell_type": "markdown",
   "metadata": {},
   "source": [
    "### Part 1"
   ]
  },
  {
   "cell_type": "code",
   "execution_count": 24,
   "metadata": {},
   "outputs": [
    {
     "data": {
      "text/plain": [
       "494"
      ]
     },
     "execution_count": 24,
     "metadata": {},
     "output_type": "execute_result"
    }
   ],
   "source": [
    "def is_low_point(hmap):\n",
    "    hmap_ = np.pad(hmap, 1, mode='constant', constant_values=10)\n",
    "    is_low = hmap_ < np.roll(hmap_, 1, axis=0)\n",
    "    is_low &= hmap_ < np.roll(hmap_, -1, axis=0)\n",
    "    is_low &= hmap_ < np.roll(hmap_, 1, axis=1)\n",
    "    is_low &= hmap_ < np.roll(hmap_, -1, axis=1)\n",
    "    return is_low[1:-1, 1:-1] # Unpad\n",
    "\n",
    "np.sum((hmap + 1) * is_low_point(hmap))"
   ]
  },
  {
   "cell_type": "markdown",
   "metadata": {},
   "source": [
    "### Part 2"
   ]
  },
  {
   "cell_type": "code",
   "execution_count": 34,
   "metadata": {},
   "outputs": [
    {
     "name": "stdout",
     "output_type": "stream",
     "text": [
      "1048128\n"
     ]
    }
   ],
   "source": [
    "def _find(hmap_, row, col):\n",
    "    if row < 0 or col < 0 or row >= hmap_.shape[0] or col >= hmap_.shape[1]:\n",
    "        return hmap_\n",
    "    if hmap_[row, col] == 1 or hmap_[row, col] == 9:\n",
    "        return hmap_\n",
    "    hmap_[row, col] = 1\n",
    "    hmap_ = _find(hmap_, row+1, col)\n",
    "    hmap_ = _find(hmap_, row-1, col)\n",
    "    hmap_ = _find(hmap_, row, col+1)\n",
    "    hmap_ = _find(hmap_, row, col-1)\n",
    "    return hmap_\n",
    "\n",
    "def find_basin(hmap, row, col):\n",
    "    hmap_ = hmap.copy()\n",
    "    hmap_[hmap_ < 9] = 0\n",
    "    return _find(hmap_, row, col)\n",
    "\n",
    "sizes = [np.sum(find_basin(hmap, row, col) == 1) for row, col in zip(*np.where(is_low_point(hmap)))]\n",
    "print(np.prod(sorted(sizes)[-3:]))\n"
   ]
  }
 ],
 "metadata": {
  "interpreter": {
   "hash": "40d3a090f54c6569ab1632332b64b2c03c39dcf918b08424e98f38b5ae0af88f"
  },
  "kernelspec": {
   "display_name": "Python 3.8.5 64-bit ('base': conda)",
   "language": "python",
   "name": "python3"
  },
  "language_info": {
   "codemirror_mode": {
    "name": "ipython",
    "version": 3
   },
   "file_extension": ".py",
   "mimetype": "text/x-python",
   "name": "python",
   "nbconvert_exporter": "python",
   "pygments_lexer": "ipython3",
   "version": "3.8.5"
  },
  "orig_nbformat": 4
 },
 "nbformat": 4,
 "nbformat_minor": 2
}
