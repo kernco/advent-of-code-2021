{
 "cells": [
  {
   "cell_type": "markdown",
   "metadata": {},
   "source": [
    "### Load data"
   ]
  },
  {
   "cell_type": "code",
   "execution_count": 6,
   "metadata": {},
   "outputs": [],
   "source": [
    "def parse_coord(coord):\n",
    "    return [int(num) for num in coord.strip().split(',')]\n",
    "\n",
    "def parse_line(line):\n",
    "    return [parse_coord(coord) for coord in line.strip().split('->')]\n",
    "\n",
    "with open(\"input.txt\") as f:\n",
    "    lines = list(map(parse_line, f))"
   ]
  },
  {
   "cell_type": "markdown",
   "metadata": {},
   "source": [
    "### Part 1"
   ]
  },
  {
   "cell_type": "code",
   "execution_count": 39,
   "metadata": {},
   "outputs": [
    {
     "data": {
      "text/plain": [
       "8111"
      ]
     },
     "execution_count": 39,
     "metadata": {},
     "output_type": "execute_result"
    }
   ],
   "source": [
    "import numpy as np\n",
    "\n",
    "def is_axial(line):\n",
    "    return line[0][0] == line[1][0] or line[0][1] == line[1][1]\n",
    "\n",
    "def get_range(n1, n2):\n",
    "    if n1 > n2:\n",
    "        return range(n1, n2-1, -1)\n",
    "    else:\n",
    "        return range(n1, n2+1)\n",
    "\n",
    "def apply_axial(counts, v1, v2):\n",
    "    if v1[0] == v2[0]:\n",
    "        counts[v1[0], get_range(v1[1], v2[1])] += 1\n",
    "    else:\n",
    "        counts[get_range(v1[0], v2[0]), v1[1]] += 1\n",
    "\n",
    "size = np.max(np.array(lines)) + 1\n",
    "counts = np.zeros(shape=(size, size))\n",
    "for v1, v2 in filter(is_axial, lines):\n",
    "    apply_axial(counts, v1, v2)\n",
    "\n",
    "np.sum(counts > 1)"
   ]
  },
  {
   "cell_type": "markdown",
   "metadata": {},
   "source": [
    "### Part 2"
   ]
  },
  {
   "cell_type": "code",
   "execution_count": 40,
   "metadata": {},
   "outputs": [
    {
     "data": {
      "text/plain": [
       "22088"
      ]
     },
     "execution_count": 40,
     "metadata": {},
     "output_type": "execute_result"
    }
   ],
   "source": [
    "def apply_diagonal(counts, v1, v2):\n",
    "    counts[get_range(v1[0], v2[0]), get_range(v1[1], v2[1])] += 1\n",
    "\n",
    "counts = np.zeros(shape=(size, size))\n",
    "for line in lines:\n",
    "    if is_axial(line):\n",
    "        apply_axial(counts, *line)\n",
    "    else:\n",
    "        apply_diagonal(counts, *line)\n",
    "\n",
    "np.sum(counts > 1)"
   ]
  }
 ],
 "metadata": {
  "interpreter": {
   "hash": "40d3a090f54c6569ab1632332b64b2c03c39dcf918b08424e98f38b5ae0af88f"
  },
  "kernelspec": {
   "display_name": "Python 3.8.5 64-bit ('base': conda)",
   "language": "python",
   "name": "python3"
  },
  "language_info": {
   "codemirror_mode": {
    "name": "ipython",
    "version": 3
   },
   "file_extension": ".py",
   "mimetype": "text/x-python",
   "name": "python",
   "nbconvert_exporter": "python",
   "pygments_lexer": "ipython3",
   "version": "3.8.5"
  },
  "orig_nbformat": 4
 },
 "nbformat": 4,
 "nbformat_minor": 2
}
